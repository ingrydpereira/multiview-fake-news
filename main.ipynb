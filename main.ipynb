{
 "cells": [
  {
   "cell_type": "code",
   "execution_count": 1,
   "metadata": {},
   "outputs": [
    {
     "name": "stderr",
     "output_type": "stream",
     "text": [
      "c:\\Users\\Ingry\\Anaconda3\\envs\\phdOficial234\\lib\\site-packages\\tqdm\\auto.py:21: TqdmWarning: IProgress not found. Please update jupyter and ipywidgets. See https://ipywidgets.readthedocs.io/en/stable/user_install.html\n",
      "  from .autonotebook import tqdm as notebook_tqdm\n"
     ]
    }
   ],
   "source": [
    "import os\n",
    "from utils.datasets_services.datasets_utils import *\n",
    "from utils.experiments.exp_multiae_by_clfs import *\n",
    "\n",
    "datasets = [\n",
    "    DatasetsNames.FAKES,\n",
    "    DatasetsNames.LIAR_2,\n",
    "    DatasetsNames.LIAR_6,\n",
    "    DatasetsNames.ISOT\n",
    "]\n",
    "\n",
    "latent_dims = [7, 21, 70, 350, 700, 3500]\n",
    "\n",
    "models_ae_list = [\n",
    "    \"wAAE\",\n",
    "    \"jointAAE\",\n",
    "    \"DVCCA\",\n",
    "    \"mVAE\",\n",
    "    \"mvtCAE\",\n",
    "    \"me_mVAE\",\n",
    "    \"MoPoEVAE\",\n",
    "]\n",
    "\n",
    "path_result = \"results/multiae_by_clf\"\n",
    "if not os.path.exists(path_result):\n",
    "    os.makedirs(path_result)\n",
    "\n",
    "path_latent = \"results/latents\"\n",
    "if not os.path.exists(path_latent):\n",
    "    os.makedirs(path_latent)"
   ]
  },
  {
   "cell_type": "code",
   "execution_count": 2,
   "metadata": {},
   "outputs": [],
   "source": [
    "\n",
    "for dataset in datasets:\n",
    "    x_train_view1, x_test_view1, x_train_view2, x_test_view2, x_train_view3, x_test_view3, \\\n",
    "    x_train_view4, x_test_view4, x_train_view5, x_test_view5, x_train_view6, x_test_view6, \\\n",
    "    x_train_view7, x_test_view7, y_train, y_test = get_saved_transformed_data_7_views(dataset.value) # get the previously extracted and saved views\n",
    "\n",
    "    get_and_save_results_7_views(models_ae_list,\n",
    "                                    latent_dims,\n",
    "                                    path_result,\n",
    "                                    path_latent,\n",
    "                                    dataset.value,\n",
    "                                    x_train_view1,\n",
    "                                    x_train_view2,\n",
    "                                    x_train_view3,\n",
    "                                    x_train_view4,\n",
    "                                    x_train_view5,\n",
    "                                    x_train_view6,\n",
    "                                    x_train_view7,\n",
    "                                    x_test_view1,\n",
    "                                    x_test_view2,\n",
    "                                    x_test_view3,\n",
    "                                    x_test_view4,\n",
    "                                    x_test_view5,\n",
    "                                    x_test_view6,\n",
    "                                    x_test_view7,\n",
    "                                    y_train,\n",
    "                                    y_test,\n",
    "                                    True, False)"
   ]
  }
 ],
 "metadata": {
  "kernelspec": {
   "display_name": "phdOficial234",
   "language": "python",
   "name": "python3"
  },
  "language_info": {
   "codemirror_mode": {
    "name": "ipython",
    "version": 3
   },
   "file_extension": ".py",
   "mimetype": "text/x-python",
   "name": "python",
   "nbconvert_exporter": "python",
   "pygments_lexer": "ipython3",
   "version": "3.9.16"
  }
 },
 "nbformat": 4,
 "nbformat_minor": 2
}
