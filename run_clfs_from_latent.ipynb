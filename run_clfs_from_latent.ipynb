{
 "cells": [
  {
   "cell_type": "code",
   "execution_count": 1,
   "metadata": {},
   "outputs": [],
   "source": [
    "from sklearn.svm import SVC\n",
    "from sklearn.linear_model import LogisticRegression, LogisticRegressionCV\n",
    "from sklearn.naive_bayes import BernoulliNB\n",
    "from sklearn.ensemble import RandomForestClassifier, ExtraTreesClassifier\n",
    "from sklearn.neural_network import MLPClassifier\n",
    "from sklearn.neighbors import KNeighborsClassifier\n",
    "import pandas\n",
    "\n",
    "random_state = 42\n",
    "max_epochs = 100\n",
    "batch_size = 2000\n",
    "\n",
    "clfs = {\"LR\": LogisticRegressionCV(random_state=random_state, multi_class='auto', solver='liblinear', penalty='l1'),\n",
    "        \"SVM\": SVC(random_state=random_state, kernel='rbf', gamma=1, probability=True),\n",
    "        \"RF\": RandomForestClassifier(random_state=random_state, verbose=0, n_estimators=1000, n_jobs=-1),\n",
    "        \"NB\": BernoulliNB(),\n",
    "        \"MLP\": MLPClassifier(random_state=random_state, batch_size=batch_size, hidden_layer_sizes=(1000,),max_iter=100, activation='relu', solver='adam'),\n",
    "        \"Extra\": ExtraTreesClassifier(random_state=random_state, n_estimators=1000, n_jobs=-1),\n",
    "        \"KNN\": KNeighborsClassifier(n_neighbors=5, n_jobs=-1)\n",
    "}"
   ]
  },
  {
   "cell_type": "code",
   "execution_count": 2,
   "metadata": {},
   "outputs": [],
   "source": [
    "dataset_name = \"ISOT\"\n",
    "y_train = pandas.read_csv(\"data/data_transformed\" + \"/\" + dataset_name + \"_y_train\" + \".csv\")\n",
    "y_test = pandas.read_csv(\"data/data_transformed\" + \"/\" + dataset_name + \"_y_test\" + \".csv\")\n",
    "\n",
    "key_y = '0'\n",
    "if(key_y not in y_train.columns):\n",
    "    key_y = 'LiarColumnNames.LABEL'\n",
    "\n",
    "y_train = y_train[key_y].values\n",
    "y_test = y_test[key_y].values"
   ]
  },
  {
   "cell_type": "code",
   "execution_count": null,
   "metadata": {},
   "outputs": [],
   "source": [
    "from os import listdir\n",
    "\n",
    "path_files = \"results/latents_combination_views/\"\n",
    "\n",
    "print(listdir(path_files))\n",
    "\n",
    "list_files = list(set(listdir(path_files)))"
   ]
  },
  {
   "cell_type": "code",
   "execution_count": null,
   "metadata": {},
   "outputs": [],
   "source": [
    "from utils.classifiers_utils import *\n",
    "from datetime import datetime\n",
    "import os\n",
    "\n",
    "path_result = \"results/clfs_combination_views\"\n",
    "if not os.path.exists(path_result):\n",
    "    os.makedirs(path_result)\n",
    "\n",
    "files_alread_run = [i.replace(\".csv\",\"\") for i in listdir(path_result)]\n",
    "\n",
    "for file in list_files:\n",
    "    if file in files_alread_run:\n",
    "        continue\n",
    "    \n",
    "    print(file)\n",
    "    x_train = pandas.read_csv(path_files + \"/\" + file + \"_train.csv\")\n",
    "    x_test = pandas.read_csv(path_files + \"/\" + file + \"_test.csv\")\n",
    "\n",
    "    results = []\n",
    "    for clf_name, clf in clfs.items():\n",
    "        print(\" - Train \" + clf_name + \" -- \" + str(datetime.now()))\n",
    "        accuracy, precision, recall, fscore = train_models(clf, x_train, y_train, x_test, y_test)\n",
    "        results.append([clf_name, accuracy, precision, recall, fscore])\n",
    "\n",
    "\n",
    "    print(\"Saving results\")\n",
    "    pandas.DataFrame(results,\n",
    "                    columns=[\"classifier\", \"accuracy\", \"precision\",\n",
    "                            \"recall\", \"fscore\"]).to_csv(path_result + \"/\" + file + \".csv\")"
   ]
  }
 ],
 "metadata": {
  "kernelspec": {
   "display_name": "phdOficial234",
   "language": "python",
   "name": "python3"
  },
  "language_info": {
   "codemirror_mode": {
    "name": "ipython",
    "version": 3
   },
   "file_extension": ".py",
   "mimetype": "text/x-python",
   "name": "python",
   "nbconvert_exporter": "python",
   "pygments_lexer": "ipython3",
   "version": "3.9.16"
  }
 },
 "nbformat": 4,
 "nbformat_minor": 2
}
